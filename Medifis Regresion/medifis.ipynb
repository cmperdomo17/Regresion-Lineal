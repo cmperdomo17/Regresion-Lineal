{
 "cells": [
  {
   "cell_type": "code",
   "execution_count": 3,
   "metadata": {},
   "outputs": [],
   "source": [
    "import pandas as pd\n",
    "import numpy as np\n",
    "import matplotlib.pyplot as plt\n",
    "import seaborn as sns\n",
    "from sklearn.metrics import mean_squared_error, r2_score\n",
    "from sklearn.linear_model import LinearRegression\n",
    "import statsmodels.api as sm"
   ]
  },
  {
   "cell_type": "code",
   "execution_count": 4,
   "metadata": {},
   "outputs": [
    {
     "data": {
      "text/html": [
       "<div>\n",
       "<style scoped>\n",
       "    .dataframe tbody tr th:only-of-type {\n",
       "        vertical-align: middle;\n",
       "    }\n",
       "\n",
       "    .dataframe tbody tr th {\n",
       "        vertical-align: top;\n",
       "    }\n",
       "\n",
       "    .dataframe thead th {\n",
       "        text-align: right;\n",
       "    }\n",
       "</style>\n",
       "<table border=\"1\" class=\"dataframe\">\n",
       "  <thead>\n",
       "    <tr style=\"text-align: right;\">\n",
       "      <th></th>\n",
       "      <th>Sexo</th>\n",
       "      <th>estatura</th>\n",
       "      <th>peso</th>\n",
       "      <th>pie</th>\n",
       "      <th>lbrazo</th>\n",
       "      <th>anchoes</th>\n",
       "      <th>dcraneo</th>\n",
       "      <th>lrodtob</th>\n",
       "    </tr>\n",
       "  </thead>\n",
       "  <tbody>\n",
       "    <tr>\n",
       "      <th>0</th>\n",
       "      <td>0</td>\n",
       "      <td>159</td>\n",
       "      <td>49</td>\n",
       "      <td>36.0</td>\n",
       "      <td>68.0</td>\n",
       "      <td>42.0</td>\n",
       "      <td>57.0</td>\n",
       "      <td>40.0</td>\n",
       "    </tr>\n",
       "    <tr>\n",
       "      <th>1</th>\n",
       "      <td>1</td>\n",
       "      <td>164</td>\n",
       "      <td>62</td>\n",
       "      <td>39.0</td>\n",
       "      <td>73.0</td>\n",
       "      <td>44.0</td>\n",
       "      <td>55.0</td>\n",
       "      <td>44.0</td>\n",
       "    </tr>\n",
       "    <tr>\n",
       "      <th>2</th>\n",
       "      <td>0</td>\n",
       "      <td>172</td>\n",
       "      <td>65</td>\n",
       "      <td>38.0</td>\n",
       "      <td>75.0</td>\n",
       "      <td>48.0</td>\n",
       "      <td>58.0</td>\n",
       "      <td>44.0</td>\n",
       "    </tr>\n",
       "    <tr>\n",
       "      <th>3</th>\n",
       "      <td>0</td>\n",
       "      <td>167</td>\n",
       "      <td>52</td>\n",
       "      <td>37.0</td>\n",
       "      <td>73.0</td>\n",
       "      <td>41.5</td>\n",
       "      <td>58.0</td>\n",
       "      <td>44.0</td>\n",
       "    </tr>\n",
       "    <tr>\n",
       "      <th>4</th>\n",
       "      <td>0</td>\n",
       "      <td>164</td>\n",
       "      <td>51</td>\n",
       "      <td>36.0</td>\n",
       "      <td>71.0</td>\n",
       "      <td>44.5</td>\n",
       "      <td>54.0</td>\n",
       "      <td>40.0</td>\n",
       "    </tr>\n",
       "  </tbody>\n",
       "</table>\n",
       "</div>"
      ],
      "text/plain": [
       "   Sexo  estatura  peso   pie  lbrazo  anchoes  dcraneo  lrodtob\n",
       "0     0       159    49  36.0    68.0     42.0     57.0     40.0\n",
       "1     1       164    62  39.0    73.0     44.0     55.0     44.0\n",
       "2     0       172    65  38.0    75.0     48.0     58.0     44.0\n",
       "3     0       167    52  37.0    73.0     41.5     58.0     44.0\n",
       "4     0       164    51  36.0    71.0     44.5     54.0     40.0"
      ]
     },
     "execution_count": 4,
     "metadata": {},
     "output_type": "execute_result"
    }
   ],
   "source": [
    "# Lectura e impresión de los datos de medidas fisicas\n",
    "data = pd.read_excel('medifis.xls')\n",
    "data.head()"
   ]
  },
  {
   "cell_type": "code",
   "execution_count": 5,
   "metadata": {},
   "outputs": [],
   "source": [
    "# Impresión de la matriz de correlación\n",
    "# plotmatrix = sns.pairplot(data)\n",
    "# plt.show()"
   ]
  },
  {
   "cell_type": "code",
   "execution_count": 6,
   "metadata": {},
   "outputs": [],
   "source": [
    "# Variables x e y\n",
    "y = data.iloc[:, 2]     \n",
    "x = data.iloc[:, [3, 4, 5, 6]]"
   ]
  },
  {
   "cell_type": "code",
   "execution_count": 7,
   "metadata": {},
   "outputs": [
    {
     "name": "stdout",
     "output_type": "stream",
     "text": [
      "Coeficientes: \n",
      " [1.57618812 0.55059726 0.9622486  0.94219641]\n",
      "Intercepto: \n",
      " -136.0546655661483\n",
      "R^2: \n",
      " 0.8122460559218057\n"
     ]
    }
   ],
   "source": [
    "model = LinearRegression()\n",
    "model.fit(x, y)\n",
    "\n",
    "# Coeficientes\n",
    "print('Coeficientes: \\n', model.coef_)\n",
    "# Intercepto\n",
    "print('Intercepto: \\n', model.intercept_)\n",
    "# R^2\n",
    "print('R^2: \\n', model.score(x, y))"
   ]
  },
  {
   "cell_type": "code",
   "execution_count": 8,
   "metadata": {},
   "outputs": [
    {
     "name": "stdout",
     "output_type": "stream",
     "text": [
      "                            OLS Regression Results                            \n",
      "==============================================================================\n",
      "Dep. Variable:                   peso   R-squared:                       0.812\n",
      "Model:                            OLS   Adj. R-squared:                  0.778\n",
      "Method:                 Least Squares   F-statistic:                     23.79\n",
      "Date:                Tue, 07 Nov 2023   Prob (F-statistic):           1.02e-07\n",
      "Time:                        19:41:27   Log-Likelihood:                -84.059\n",
      "No. Observations:                  27   AIC:                             178.1\n",
      "Df Residuals:                      22   BIC:                             184.6\n",
      "Df Model:                           4                                         \n",
      "Covariance Type:            nonrobust                                         \n",
      "==============================================================================\n",
      "                 coef    std err          t      P>|t|      [0.025      0.975]\n",
      "------------------------------------------------------------------------------\n",
      "const       -136.0547     41.168     -3.305      0.003    -221.433     -50.677\n",
      "pie            1.5762      0.860      1.832      0.081      -0.208       3.361\n",
      "lbrazo         0.5506      0.499      1.103      0.282      -0.485       1.586\n",
      "anchoes        0.9622      0.577      1.668      0.110      -0.234       2.159\n",
      "dcraneo        0.9422      0.838      1.125      0.273      -0.795       2.679\n",
      "==============================================================================\n",
      "Omnibus:                        1.574   Durbin-Watson:                   2.163\n",
      "Prob(Omnibus):                  0.455   Jarque-Bera (JB):                1.295\n",
      "Skew:                           0.358   Prob(JB):                        0.523\n",
      "Kurtosis:                       2.202   Cond. No.                     3.94e+03\n",
      "==============================================================================\n",
      "\n",
      "Notes:\n",
      "[1] Standard Errors assume that the covariance matrix of the errors is correctly specified.\n",
      "[2] The condition number is large, 3.94e+03. This might indicate that there are\n",
      "strong multicollinearity or other numerical problems.\n"
     ]
    }
   ],
   "source": [
    "# Columna de unos para el intercepto\n",
    "x = sm.add_constant(x)\n",
    "\n",
    "model = sm.OLS(y, x).fit()\n",
    "\n",
    "print(model.summary())"
   ]
  },
  {
   "cell_type": "code",
   "execution_count": 9,
   "metadata": {},
   "outputs": [
    {
     "name": "stdout",
     "output_type": "stream",
     "text": [
      "                            OLS Regression Results                            \n",
      "==============================================================================\n",
      "Dep. Variable:                   peso   R-squared:                       0.812\n",
      "Model:                            OLS   Adj. R-squared:                  0.778\n",
      "Method:                 Least Squares   F-statistic:                     23.79\n",
      "Date:                Tue, 07 Nov 2023   Prob (F-statistic):           1.02e-07\n",
      "Time:                        19:41:27   Log-Likelihood:                -84.059\n",
      "No. Observations:                  27   AIC:                             178.1\n",
      "Df Residuals:                      22   BIC:                             184.6\n",
      "Df Model:                           4                                         \n",
      "Covariance Type:            nonrobust                                         \n",
      "==============================================================================\n",
      "                 coef    std err          t      P>|t|      [0.025      0.975]\n",
      "------------------------------------------------------------------------------\n",
      "const       -136.0547     41.168     -3.305      0.003    -221.433     -50.677\n",
      "pie            1.5762      0.860      1.832      0.081      -0.208       3.361\n",
      "lbrazo         0.5506      0.499      1.103      0.282      -0.485       1.586\n",
      "anchoes        0.9622      0.577      1.668      0.110      -0.234       2.159\n",
      "dcraneo        0.9422      0.838      1.125      0.273      -0.795       2.679\n",
      "==============================================================================\n",
      "Omnibus:                        1.574   Durbin-Watson:                   2.163\n",
      "Prob(Omnibus):                  0.455   Jarque-Bera (JB):                1.295\n",
      "Skew:                           0.358   Prob(JB):                        0.523\n",
      "Kurtosis:                       2.202   Cond. No.                     3.94e+03\n",
      "==============================================================================\n",
      "\n",
      "Notes:\n",
      "[1] Standard Errors assume that the covariance matrix of the errors is correctly specified.\n",
      "[2] The condition number is large, 3.94e+03. This might indicate that there are\n",
      "strong multicollinearity or other numerical problems.\n"
     ]
    }
   ],
   "source": [
    "# Añadir una columna de unos para el intercepto\n",
    "X = sm.add_constant(x)\n",
    "\n",
    "model = sm.OLS(y,X).fit()\n",
    "\n",
    "print(model.summary())"
   ]
  },
  {
   "cell_type": "code",
   "execution_count": 10,
   "metadata": {},
   "outputs": [
    {
     "data": {
      "text/plain": [
       "(array([3., 2., 4., 4., 4., 3., 0., 2., 2., 3.]),\n",
       " array([-8.5892128 , -6.71602987, -4.84284694, -2.96966401, -1.09648109,\n",
       "         0.77670184,  2.64988477,  4.5230677 ,  6.39625062,  8.26943355,\n",
       "        10.14261648]),\n",
       " <BarContainer object of 10 artists>)"
      ]
     },
     "execution_count": 10,
     "metadata": {},
     "output_type": "execute_result"
    },
    {
     "data": {
      "image/png": "[encoded data removed]",
      "text/plain": [
       "<Figure size 640x480 with 1 Axes>"
      ]
     },
     "metadata": {},
     "output_type": "display_data"
    }
   ],
   "source": [
    "# Histograma de los residuos\n",
    "plt.hist(model.resid)"
   ]
  }
 ],
 "metadata": {
  "kernelspec": {
   "display_name": "Python 3",
   "language": "python",
   "name": "python3"
  },
  "language_info": {
   "codemirror_mode": {
    "name": "ipython",
    "version": 3
   },
   "file_extension": ".py",
   "mimetype": "text/x-python",
   "name": "python",
   "nbconvert_exporter": "python",
   "pygments_lexer": "ipython3",
   "version": "3.11.6"
  }
 },
 "nbformat": 4,
 "nbformat_minor": 2
}
