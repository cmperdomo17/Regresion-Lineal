{
 "cells": [
  {
   "cell_type": "code",
   "execution_count": 1,
   "metadata": {},
   "outputs": [],
   "source": [
    "# Funcion para calcular el 1RM\n",
    "\n",
    "def oneRepMax():\n",
    "    peso = float(input('Introduce el peso levantado: '))\n",
    "    repeticiones = int(input('Introduce el número de repeticiones: '))\n",
    "    oneRepMax = round((peso * (1 + (repeticiones / 30))), 2)\n",
    "    print('Peso levantado: ', peso, 'kg')\n",
    "    print('Repeticiones: ', repeticiones)\n",
    "    print('\\nTu 1RM es: ', oneRepMax)"
   ]
  },
  {
   "cell_type": "code",
   "execution_count": 30,
   "metadata": {},
   "outputs": [],
   "source": [
    "# Funcion para predecir cuantas repeticiones se pueden hacer con un peso dado\n",
    "\n",
    "def repeticiones():\n",
    "    peso = float(input('Introduce el peso levantado: '))\n",
    "    oneRepMax = float(input('Introduce tu 1RM: '))\n",
    "    repeticiones = round((30 * (oneRepMax - peso)) / peso, 0)\n",
    "    print('Peso levantado: ', peso, 'kg')\n",
    "    print('1RM: ', oneRepMax)\n",
    "    print('\\nCon este peso puedes hacer ', repeticiones, ' repeticiones')"
   ]
  },
  {
   "cell_type": "code",
   "execution_count": null,
   "metadata": {},
   "outputs": [],
   "source": [
    "oneRepMax()\n"
   ]
  }
 ],
 "metadata": {
  "kernelspec": {
   "display_name": "Python 3",
   "language": "python",
   "name": "python3"
  },
  "language_info": {
   "codemirror_mode": {
    "name": "ipython",
    "version": 3
   },
   "file_extension": ".py",
   "mimetype": "text/x-python",
   "name": "python",
   "nbconvert_exporter": "python",
   "pygments_lexer": "ipython3",
   "version": "3.11.6"
  }
 },
 "nbformat": 4,
 "nbformat_minor": 2
}
