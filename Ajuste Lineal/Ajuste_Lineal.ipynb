{
 "cells": [
  {
   "cell_type": "code",
   "execution_count": null,
   "metadata": {},
   "outputs": [],
   "source": [
    "import matplotlib.pyplot as plt\n",
    "import seaborn as sns\n",
    "import numpy as np\n",
    "import pandas as pd\n",
    "from sklearn.linear_model import LinearRegression\n",
    "import statsmodels.api as sm"
   ]
  },
  {
   "cell_type": "code",
   "execution_count": null,
   "metadata": {},
   "outputs": [],
   "source": [
    "# Covarianza con una x aleatoria y una Y con una función lineal y ruido\n",
    "x = np.random.randn(1000, 1)\n",
    "y = 5*x + 10 + 10*np.random.rand(1000, 1)\n",
    "\n",
    "# Gráfico\n",
    "plt.scatter(x, y, marker='o')\n",
    "plt.xlabel('x')\n",
    "plt.ylabel('y')\n",
    "plt.title('Dependencia X vs Y')\n",
    "plt.grid(True)\n",
    "plt.show()\n",
    "\n",
    "# Cálculo de la covarianza\n",
    "sky = np.cov(x.T, y.T)\n",
    "print(sky)"
   ]
  },
  {
   "cell_type": "code",
   "execution_count": null,
   "metadata": {},
   "outputs": [],
   "source": [
    "# Covarianza con una x aleatoria y una Y con una función senoidal\n",
    "x = np.random.randn(1000, 1)\n",
    "y = np.sin(5*x)\n",
    "\n",
    "# Gráfico\n",
    "plt.scatter(x, y, marker='o')\n",
    "plt.xlabel('x')\n",
    "plt.ylabel('y')\n",
    "plt.title('Dependencia X vs Y')\n",
    "plt.show()\n",
    "\n",
    "# Cálculo de la covarianza\n",
    "sky = np.cov(x.T, y.T)\n",
    "print(sky)"
   ]
  },
  {
   "cell_type": "code",
   "execution_count": null,
   "metadata": {},
   "outputs": [],
   "source": [
    "# Leer los datos\n",
    "data5 = pd.read_csv('data5.csv', header=None)"
   ]
  },
  {
   "cell_type": "code",
   "execution_count": null,
   "metadata": {},
   "outputs": [],
   "source": [
    "# Mismos datos con una columna de ruido\n",
    "data6 = np.hstack((data5, np.random.randn(1165, 1)))"
   ]
  },
  {
   "cell_type": "code",
   "execution_count": null,
   "metadata": {},
   "outputs": [],
   "source": [
    "# Cálculo de la covarianza\n",
    "s = np.cov(data6, rowvar=False)\n",
    "s = np.round(s, 2)\n",
    "print(s)"
   ]
  },
  {
   "cell_type": "code",
   "execution_count": null,
   "metadata": {},
   "outputs": [],
   "source": [
    "# Cálculo de la correlación\n",
    "k = np.corrcoef(data6, rowvar=False)\n",
    "k = np.round(k, 4)\n",
    "print(k)"
   ]
  },
  {
   "cell_type": "code",
   "execution_count": null,
   "metadata": {},
   "outputs": [],
   "source": [
    "# Gráfico de matriz\n",
    "sns.pairplot(pd.DataFrame(data6))\n",
    "plt.show()\n",
    "# La columna #6 muestra una dependencia no lineal \n",
    "#comparada con la matriz original, ya que la covarianza es cero. \n",
    "# Y la varianza es el 1 al final de la matriz."
   ]
  },
  {
   "cell_type": "code",
   "execution_count": null,
   "metadata": {},
   "outputs": [],
   "source": [
    "# DataFrame de covarianza\n",
    "s = pd.DataFrame(s)\n",
    "s"
   ]
  },
  {
   "cell_type": "code",
   "execution_count": null,
   "metadata": {},
   "outputs": [],
   "source": [
    "# DataFrame de correlación\n",
    "k = pd.DataFrame(k)\n",
    "k"
   ]
  },
  {
   "cell_type": "code",
   "execution_count": null,
   "metadata": {},
   "outputs": [],
   "source": [
    "# Coinstruir un modelo que explique x3 en los terminos de los otros 4 activos\n",
    "\n",
    "# Variable dependiente\n",
    "y = data5.iloc[:, 2] # Se extrae la columna 3\n",
    "\n",
    "# Variables independientes\n",
    "x = data5.iloc[:, [0, 1, 3, 4]] # Se toman los 4 activos restantes \n",
    "\n",
    "# Ajuste del modelo\n",
    "model = LinearRegression() # Se instancia el modelo de regresión lineal\n",
    "model.fit(x, y) # Se ajusta el modelo usando la variable dependiente y las independientes x\n",
    "\n",
    "# Coeficientes, intercepto y R^2 del modelo\n",
    "print(\"Coeficientes:\", model.coef_) # Que tan sensible es x3 a los otros 4 activos\n",
    "print(\"Intercepto:\", model.intercept_) # Valor esperado de x3 cuando los otros 4 activos son cero\n",
    "print(\"R^2:\", model.score(x, y)) # Porcentaje de variabilidad de x3 explicado por los otros 4 activos"
   ]
  },
  {
   "cell_type": "code",
   "execution_count": null,
   "metadata": {},
   "outputs": [],
   "source": [
    "# Ajuste del modelo de regresión lineal usando statsmodels\n",
    "x = sm.add_constant(x)\n",
    "model = sm.OLS(y, x).fit()\n",
    "print(model.summary())"
   ]
  },
  {
   "cell_type": "code",
   "execution_count": null,
   "metadata": {},
   "outputs": [],
   "source": [
    "# Histograma de los residuos\n",
    "res = model.resid\n",
    "plt.hist(res)"
   ]
  },
  {
   "cell_type": "code",
   "execution_count": null,
   "metadata": {},
   "outputs": [],
   "source": [
    "# Media de los residuos\n",
    "res.mean()"
   ]
  },
  {
   "cell_type": "code",
   "execution_count": null,
   "metadata": {},
   "outputs": [],
   "source": [
    "# SCT = SCM + SCR\n",
    "SCT = np.sum((y - y.mean())**2)\n",
    "SCM = np.sum((model.predict(x) - y.mean())**2)\n",
    "SCR = np.sum(model.resid**2)\n",
    "\n",
    "print(\"SCT:\", SCT) # Suma de los cuadrados totales (SCT)\n",
    "print(\"SCM:\", SCM) # Suma de los cuadrados del modelo (SCM)\n",
    "print(\"SCR:\", SCR) # Suma de los cuadrados d los residuos (SCR)\n",
    "print(\"SCM + SCR:\", SCM + SCR)\n",
    "\n",
    "# R^2 = SCM / SCT\n",
    "print(\"R^2:\", SCM / SCT)\n",
    "\n",
    "# R^2 + SCT = 1\n",
    "print(\"R^2 + SCT:\", (SCM + SCR) / SCT)\n",
    "\n",
    "# Porcentaje de R^2 y Residuales\n",
    "print(\"Porcentaje de R^2:\", (SCM / SCT)*100, \"%\" )\n",
    "print(\"Porcentaje de Residuales:\", (SCR / SCT)*100, \"%\" )"
   ]
  }
 ],
 "metadata": {
  "kernelspec": {
   "display_name": "Python 3",
   "language": "python",
   "name": "python3"
  },
  "language_info": {
   "codemirror_mode": {
    "name": "ipython",
    "version": 3
   },
   "file_extension": ".py",
   "mimetype": "text/x-python",
   "name": "python",
   "nbconvert_exporter": "python",
   "pygments_lexer": "ipython3",
   "version": "3.11.6"
  }
 },
 "nbformat": 4,
 "nbformat_minor": 2
}
