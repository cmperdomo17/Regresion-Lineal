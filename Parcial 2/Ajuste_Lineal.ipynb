{
 "cells": [
  {
   "cell_type": "code",
   "execution_count": 157,
   "metadata": {},
   "outputs": [],
   "source": [
    "import matplotlib.pyplot as plt\n",
    "import seaborn as sns\n",
    "import numpy as np\n",
    "import pandas as pd\n",
    "from sklearn.linear_model import LinearRegression\n",
    "import statsmodels.api as sm\n",
    "from scipy.stats import jarque_bera"
   ]
  },
  {
   "cell_type": "code",
   "execution_count": null,
   "metadata": {},
   "outputs": [],
   "source": [
    "# Leer el txt con 10 columnas separadas por espacios\n",
    "data5 = pd.read_csv('dataE.txt', sep='\\s+', header=None)\n",
    "\n",
    "# Imprimir las primeras filas para verificar la lectura\n",
    "print(data5.head())"
   ]
  },
  {
   "cell_type": "code",
   "execution_count": null,
   "metadata": {},
   "outputs": [],
   "source": [
    "pd.DataFrame(data5).head()"
   ]
  },
  {
   "cell_type": "code",
   "execution_count": null,
   "metadata": {},
   "outputs": [],
   "source": [
    "# Identifique la columna que podría ser mejor explicada en términos de las otras a través de un modelo lineal\n",
    "\n",
    "# Usar la covarianza para identificar la columna que mejor se puede explicar en términos de las otras\n",
    "cov = data5.cov()\n",
    "cov\n",
    "\n",
    "# La columna que mejor se puede explicar en términos de las otras es la columna 9, ya que tiene la mayor covarianza con las otras columnas  "
   ]
  },
  {
   "cell_type": "code",
   "execution_count": null,
   "metadata": {},
   "outputs": [],
   "source": [
    "# Cálculo de la covarianza\n",
    "s = np.cov(data5, rowvar=False)\n",
    "s = np.round(s, 2)\n",
    "print(s)"
   ]
  },
  {
   "cell_type": "code",
   "execution_count": null,
   "metadata": {},
   "outputs": [],
   "source": [
    "# Cálculo de la correlación\n",
    "k = np.corrcoef(data5, rowvar=False)\n",
    "k = np.round(k, 4)\n",
    "print(k)"
   ]
  },
  {
   "cell_type": "code",
   "execution_count": null,
   "metadata": {},
   "outputs": [],
   "source": [
    "# Gráfico de la matriz de correlación\n",
    "sns.pairplot(pd.DataFrame(data5))\n",
    "plt.show()"
   ]
  },
  {
   "cell_type": "code",
   "execution_count": 155,
   "metadata": {},
   "outputs": [
    {
     "name": "stdout",
     "output_type": "stream",
     "text": [
      "Coeficientes: [-0.04949003  2.12364647  2.40322363  4.19380154  5.14927576 -0.05796878\n",
      "  0.45103952  0.29308853  0.04274137]\n",
      "Intercepto: 0.09313674654342269\n",
      "R^2: 0.9149693936751537\n"
     ]
    }
   ],
   "source": [
    "# Coinstruir un modelo que explique x9 en términos de las otras variables\n",
    "\n",
    "# Variable dependiente: Columna 10\n",
    "y = data5.iloc[:, 9] # Se toma la columna 10 como variable dependiente\n",
    "\n",
    "# Variables independientes\n",
    "x = data5.iloc[:, [0, 1, 2, 3, 4, 5, 6, 7, 8]] # Se toman las columnas 1 a 9 como variables independientes\n",
    "\n",
    "# Eliminamos las variables no relevantes \n",
    "# x = data5.iloc[:, [1, 2, 3, 4,]] \n",
    "\n",
    "# Ajuste del modelo\n",
    "model = LinearRegression() # Se instancia el modelo de regresión lineal\n",
    "model.fit(x, y) # Se ajusta el modelo usando la variable dependiente y las independientes x\n",
    "\n",
    "# Coeficientes, intercepto y R^2 del modelo\n",
    "print(\"Coeficientes:\", model.coef_) # Que tan sensible es la ultima columna a los cambios en las otras 9\n",
    "print(\"Intercepto:\", model.intercept_) \n",
    "print(\"R^2:\", model.score(x, y)) # Porcentaje de variabilidad "
   ]
  },
  {
   "cell_type": "code",
   "execution_count": 158,
   "metadata": {},
   "outputs": [
    {
     "name": "stdout",
     "output_type": "stream",
     "text": [
      "                            OLS Regression Results                            \n",
      "==============================================================================\n",
      "Dep. Variable:                      9   R-squared:                       0.915\n",
      "Model:                            OLS   Adj. R-squared:                  0.914\n",
      "Method:                 Least Squares   F-statistic:                     1564.\n",
      "Date:                Fri, 10 Nov 2023   Prob (F-statistic):               0.00\n",
      "Time:                        13:08:35   Log-Likelihood:                -4323.5\n",
      "No. Observations:                1318   AIC:                             8667.\n",
      "Df Residuals:                    1308   BIC:                             8719.\n",
      "Df Model:                           9                                         \n",
      "Covariance Type:            nonrobust                                         \n",
      "==============================================================================\n",
      "                 coef    std err          t      P>|t|      [0.025      0.975]\n",
      "------------------------------------------------------------------------------\n",
      "const          0.0931      0.178      0.522      0.602      -0.257       0.443\n",
      "0             -0.0495      0.465     -0.107      0.915      -0.961       0.862\n",
      "1              2.1236      0.190     11.163      0.000       1.750       2.497\n",
      "2              2.4032      0.441      5.453      0.000       1.539       3.268\n",
      "3              4.1938      0.227     18.460      0.000       3.748       4.639\n",
      "4              5.1493      0.236     21.780      0.000       4.685       5.613\n",
      "5             -0.0580      0.238     -0.243      0.808      -0.526       0.410\n",
      "6              0.4510      0.280      1.611      0.107      -0.098       1.000\n",
      "7              0.2931      0.233      1.256      0.209      -0.165       0.751\n",
      "8              0.0427      0.252      0.170      0.865      -0.451       0.537\n",
      "==============================================================================\n",
      "Omnibus:                        3.958   Durbin-Watson:                   1.906\n",
      "Prob(Omnibus):                  0.138   Jarque-Bera (JB):                4.026\n",
      "Skew:                          -0.127   Prob(JB):                        0.134\n",
      "Kurtosis:                       2.905   Cond. No.                         11.2\n",
      "==============================================================================\n",
      "\n",
      "Notes:\n",
      "[1] Standard Errors assume that the covariance matrix of the errors is correctly specified.\n"
     ]
    }
   ],
   "source": [
    "# Ajuste del modelo de regresión lineal usando statsmodels\n",
    "x = sm.add_constant(x)\n",
    "model = sm.OLS(y, x).fit()\n",
    "print(model.summary())"
   ]
  },
  {
   "cell_type": "code",
   "execution_count": 161,
   "metadata": {},
   "outputs": [
    {
     "data": {
      "text/plain": [
       "(array([  2.,   7.,   7.,  11.,  22.,  52.,  70.,  92., 115., 146., 176.,\n",
       "        155., 124., 118., 104.,  55.,  28.,  20.,  11.,   3.]),\n",
       " array([-21.23765692, -19.26327254, -17.28888817, -15.31450379,\n",
       "        -13.34011942, -11.36573505,  -9.39135067,  -7.4169663 ,\n",
       "         -5.44258192,  -3.46819755,  -1.49381317,   0.4805712 ,\n",
       "          2.45495558,   4.42933995,   6.40372433,   8.3781087 ,\n",
       "         10.35249308,  12.32687745,  14.30126183,  16.2756462 ,\n",
       "         18.25003058]),\n",
       " <BarContainer object of 20 artists>)"
      ]
     },
     "execution_count": 161,
     "metadata": {},
     "output_type": "execute_result"
    },
    {
     "data": {
      "image/png": "[encoded data removed]",
      "text/plain": [
       "<Figure size 640x480 with 1 Axes>"
      ]
     },
     "metadata": {},
     "output_type": "display_data"
    }
   ],
   "source": [
    "# Histograma de los residuos\n",
    "res = model.resid\n",
    "plt.hist(res, bins=20)"
   ]
  },
  {
   "cell_type": "code",
   "execution_count": null,
   "metadata": {},
   "outputs": [],
   "source": [
    "# Media de los residuos\n",
    "res.mean()"
   ]
  },
  {
   "cell_type": "code",
   "execution_count": null,
   "metadata": {},
   "outputs": [],
   "source": [
    "# Calculo de la matriz de correlacion de las variables relevantes sin el intercepto\n",
    "x = x.iloc[:, 1:]\n",
    "k = np.corrcoef(x, rowvar=False)\n",
    "k = np.round(k, 4)\n",
    "print(k)"
   ]
  },
  {
   "cell_type": "code",
   "execution_count": null,
   "metadata": {},
   "outputs": [],
   "source": [
    "# Indicador para ver que variable x se explica mejor en terminos de las otras\n",
    "\n",
    "# Paso 1: Construir la matriz de covarianza (KxK): c = cov(data)\n",
    "# Paso 2: Diagonal de la matriz de covarianza: d = diag(c)\n",
    "# Paso 3: Inversa de c: ci = inv(c)\n",
    "# Paso 4: Diagonal de ci (de la inversa): di = diag(ci)\n",
    "# Paso 5: Indicador (Porcentaje explicado por las otras de ella): r = 1-1./(d.*di) \n",
    "\n",
    "# c = np.cov(data5, rowvar=False)\n",
    "c = np.cov(np.random.randn(1000, 5), rowvar=False)\n",
    "d = np.diag(c)\n",
    "ci = np.linalg.inv(c)\n",
    "di = np.diag(ci)\n",
    "r = 1-1./(d*di)\n",
    "\n",
    "print(\"Indicador:\", r)"
   ]
  },
  {
   "cell_type": "code",
   "execution_count": null,
   "metadata": {},
   "outputs": [],
   "source": [
    "k = 1\n",
    "plt.plot(x, y, 'o')  # Grafica los puntos de x contra y\n",
    "R2 = 0\n",
    "R2V = []\n",
    "\n",
    "while R2 < 0.95:\n",
    "    x1 = sm.add_constant(x)  # Agrega una columna de unos a x\n",
    "    model = sm.OLS(y, x1).fit()  # Ajusta el modelo de regresión lineal\n",
    "    beta = model.params  # Coeficientes de regresión estimados\n",
    "\n",
    "    yhat = x1.dot(beta)  # Calcula yhat\n",
    "\n",
    "    r = y - yhat  # Calcula los residuos\n",
    "    rra = np.abs(r)\n",
    "    M = np.max(rra)\n",
    "    i = np.where(rra == M)  # Encuentra el índice del valor absoluto máximo\n",
    "\n",
    "    x = np.delete(x, i, axis=0)  # Elimina la fila correspondiente en x\n",
    "    y = np.delete(y, i)  # Elimina el valor correspondiente en y\n",
    "\n",
    "    R2 = model.rsquared_adj  # Calcula el R cuadrado ajustado\n",
    "    R2V.append(R2)  # Almacena el R cuadrado ajustado en un arreglo\n",
    "    k += 1 # Contador de iteraciones\n"
   ]
  },
  {
   "cell_type": "code",
   "execution_count": null,
   "metadata": {},
   "outputs": [],
   "source": [
    "# Gráfica de R^2 vs. iteraciones\n",
    "plt.plot(R2V)\n",
    "plt.xlabel('Iteraciones')\n",
    "plt.ylabel('R^2')\n",
    "plt.show()"
   ]
  },
  {
   "cell_type": "code",
   "execution_count": null,
   "metadata": {},
   "outputs": [],
   "source": [
    "# Ajuste del modelo de regresión lineal usando statsmodels \n",
    "x = sm.add_constant(x)\n",
    "model = sm.OLS(y, x).fit()\n",
    "print(model.summary())"
   ]
  },
  {
   "cell_type": "code",
   "execution_count": null,
   "metadata": {},
   "outputs": [],
   "source": [
    "# Histograma de los residuos\n",
    "plt.hist(r, bins=40)\n",
    "plt.show()"
   ]
  },
  {
   "cell_type": "code",
   "execution_count": null,
   "metadata": {},
   "outputs": [],
   "source": [
    "# Cuantos datos fueron eliminados?\n",
    "print(\"Cantidad de datos eliminados:\", 1000 - k)"
   ]
  },
  {
   "cell_type": "code",
   "execution_count": null,
   "metadata": {},
   "outputs": [],
   "source": [
    "# Prueba de Jarque-Bera para la normalidad de los residuos\n",
    "h, p = jarque_bera(r)\n",
    "if p < 0.05:\n",
    "    print(\"Los residuos no siguen una distribución normal y sigue un modelo lineal.\")\n",
    "else:\n",
    "    print(\"Los residuos siguen una distribución normal y no sigue un modelo lineal.\")\n"
   ]
  },
  {
   "cell_type": "code",
   "execution_count": null,
   "metadata": {},
   "outputs": [],
   "source": [
    "# Cálculo de los componentes SCT, SCM y SCR\n",
    "SCT = np.sum((y - y.mean())**2)  # Suma de Cuadrados Totales\n",
    "SCM = np.sum((model.predict(x) - y.mean())**2)  # Suma de Cuadrados del Modelo\n",
    "SCR = np.sum((y - model.predict(x))**2)  # Suma de Cuadrados de los Residuos\n",
    "R2 = SCM / SCT  # Coeficiente de Determinación R^2\n",
    "\n",
    "# Impresión de los resultados\n",
    "print(\"SCT:\", SCT)  # Suma de Cuadrados Totales (SCT)\n",
    "print(\"SCM:\", SCM)  # Suma de Cuadrados del Modelo (SCM)\n",
    "print(\"SCR:\", SCR)  # Suma de Cuadrados de los Residuos (SCR)\n",
    "print(\"SCM + SCR:\", SCM + SCR)  # Verificación: SCM + SCR debe ser igual a SCT\n",
    "\n",
    "# R^2 = SCM / SCT\n",
    "print(\"R^2:\", R2)\n",
    "\n",
    "# Verificación: R^2 + SCR/SCT debería ser aproximadamente igual a 1\n",
    "print(\"R^2 + SCR/SCT:\", R2 + SCR / SCT)\n",
    "\n",
    "# Porcentaje de R^2 y Residuos en relación con SCT\n",
    "print(\"Porcentaje de R^2:\", (SCM / SCT) * 100, \"%\")\n",
    "print(\"Porcentaje de Residuos:\", (SCR / SCT) * 100, \"%\")\n"
   ]
  }
 ],
 "metadata": {
  "kernelspec": {
   "display_name": "Python 3",
   "language": "python",
   "name": "python3"
  },
  "language_info": {
   "codemirror_mode": {
    "name": "ipython",
    "version": 3
   },
   "file_extension": ".py",
   "mimetype": "text/x-python",
   "name": "python",
   "nbconvert_exporter": "python",
   "pygments_lexer": "ipython3",
   "version": "3.11.6"
  }
 },
 "nbformat": 4,
 "nbformat_minor": 2
}
