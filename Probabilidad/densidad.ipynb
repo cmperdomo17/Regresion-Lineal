{
 "cells": [
  {
   "cell_type": "code",
   "execution_count": 32,
   "metadata": {},
   "outputs": [],
   "source": [
    "# Librerias\n",
    "import matplotlib.pyplot as plt\n",
    "import pandas as pd\n",
    "import numpy as np\n",
    "from scipy.integrate import quad\n",
    "from scipy.stats import binom"
   ]
  },
  {
   "cell_type": "code",
   "execution_count": null,
   "metadata": {},
   "outputs": [],
   "source": [
    "u = np.random.rand(100000,1)\n",
    "x = -(1/5)*np.log(1-u)\n",
    "plt.hist(x, bins=10)"
   ]
  },
  {
   "cell_type": "code",
   "execution_count": null,
   "metadata": {},
   "outputs": [],
   "source": [
    "# Media\n",
    "# E(X) = integral de 0 a infinito de x*f(x)dx\n",
    "media = np.mean(x)\n",
    "print(\"Media: \", media)"
   ]
  },
  {
   "cell_type": "code",
   "execution_count": null,
   "metadata": {},
   "outputs": [],
   "source": [
    "x = u**(1/3)\n",
    "plt.hist(x, bins=10)"
   ]
  },
  {
   "cell_type": "code",
   "execution_count": null,
   "metadata": {},
   "outputs": [],
   "source": [
    "# x = arcos(1-u)\n",
    "x = np.arccos(1-u)\n",
    "plt.hist(x, bins=10)"
   ]
  },
  {
   "cell_type": "code",
   "execution_count": null,
   "metadata": {},
   "outputs": [],
   "source": [
    "# int(x*sin(x),0,pi/2)\n",
    "def funcion(x):\n",
    "    return x*np.sin(x)\n",
    "\n",
    "a = 0\n",
    "b = np.pi/2\n",
    "\n",
    "resultado, error = quad(funcion, a, b)\n",
    "\n",
    "print(\"Integral: \", resultado)\n",
    "print(\"Error: \", error)\n",
    "print(\"Media: \", np.mean(x))"
   ]
  },
  {
   "cell_type": "code",
   "execution_count": 40,
   "metadata": {},
   "outputs": [
    {
     "name": "stdout",
     "output_type": "stream",
     "text": [
      "0.7976688481430756\n"
     ]
    }
   ],
   "source": [
    "# Distribucion Binomial: binopdf(k,n,p)\n",
    "\n",
    "# Parámetros: n = número de ensayos, p = probabilidad de éxito\n",
    "n = 20\n",
    "p = 0.25\n",
    "# Número de éxitos deseados\n",
    "k = 5\n",
    "# Calcula la probabilidad de obtener exactamente k éxitos en n ensayos\n",
    "probabilidad = 1 - binom.pmf(k, n, p)\n",
    "print(probabilidad)"
   ]
  },
  {
   "cell_type": "code",
   "execution_count": 42,
   "metadata": {},
   "outputs": [
    {
     "name": "stdout",
     "output_type": "stream",
     "text": [
      "1.610715116839856e-09\n"
     ]
    }
   ],
   "source": [
    "n = 20\n",
    "p = 0.25\n",
    "k = 17\n",
    "probabilidad = 1 - binom.cdf(k, n, p)\n",
    "print(probabilidad)"
   ]
  },
  {
   "cell_type": "code",
   "execution_count": 47,
   "metadata": {},
   "outputs": [
    {
     "name": "stdout",
     "output_type": "stream",
     "text": [
      "0.0012\n",
      "5.01475\n"
     ]
    }
   ],
   "source": [
    "# s = binornd(20, 0.25, 20000, 1)\n",
    "s = np.random.binomial(n, p, 20000)\n",
    "I = np.mean(s>=12)\n",
    "print(I)\n",
    "print(np.mean(s))"
   ]
  }
 ],
 "metadata": {
  "kernelspec": {
   "display_name": "Python 3",
   "language": "python",
   "name": "python3"
  },
  "language_info": {
   "codemirror_mode": {
    "name": "ipython",
    "version": 3
   },
   "file_extension": ".py",
   "mimetype": "text/x-python",
   "name": "python",
   "nbconvert_exporter": "python",
   "pygments_lexer": "ipython3",
   "version": "3.11.6"
  }
 },
 "nbformat": 4,
 "nbformat_minor": 2
}
