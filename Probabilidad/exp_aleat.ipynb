{
 "cells": [
  {
   "cell_type": "code",
   "execution_count": null,
   "metadata": {},
   "outputs": [],
   "source": [
    "# Librerias\n",
    "import matplotlib.pyplot as plt\n",
    "import pandas as pd\n",
    "import numpy as np"
   ]
  },
  {
   "cell_type": "code",
   "execution_count": null,
   "metadata": {},
   "outputs": [],
   "source": [
    "P = 0.5 # Probabilidad de que salga Cara\n",
    "N = 10 # Numero de lanzamientos, entre mas alto, mas convergera a P\n",
    "fC = np.zeros(N) # Frecuencia de Caras\n",
    "\n",
    "# Experimento\n",
    "for j in range(1,N):\n",
    "    aux = np.random.rand(j, 1) \n",
    "    aux2 = (aux < P) \n",
    "    fC[j] = np.mean(aux2) \n",
    "\n",
    "plt.plot(fC) \n",
    "print(np.round(fC,2))"
   ]
  },
  {
   "cell_type": "code",
   "execution_count": null,
   "metadata": {},
   "outputs": [],
   "source": [
    "N = 100000\n",
    "X = np.random.rand(N,1)\n",
    "y = 0 + np.exp(1) * np.random.rand(N,1)\n",
    "plt.plot(X,y,'o')\n",
    "\n",
    "indicador = np.where(y < np.exp(X))\n",
    "plt.plot(X[indicador],y[indicador],'o')"
   ]
  },
  {
   "cell_type": "code",
   "execution_count": null,
   "metadata": {},
   "outputs": [],
   "source": [
    "pr = len(indicador[0])\n",
    "integral_1 = (np.exp(1) * pr) / N\n",
    "print(integral_1)"
   ]
  }
 ],
 "metadata": {
  "kernelspec": {
   "display_name": "Python 3",
   "language": "python",
   "name": "python3"
  },
  "language_info": {
   "codemirror_mode": {
    "name": "ipython",
    "version": 3
   },
   "file_extension": ".py",
   "mimetype": "text/x-python",
   "name": "python",
   "nbconvert_exporter": "python",
   "pygments_lexer": "ipython3",
   "version": "3.11.6"
  }
 },
 "nbformat": 4,
 "nbformat_minor": 2
}
